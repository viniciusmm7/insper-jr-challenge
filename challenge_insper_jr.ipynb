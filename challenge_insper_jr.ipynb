{
 "cells": [
  {
   "cell_type": "markdown",
   "metadata": {},
   "source": [
    "# Insper Jr Challenge 2022 - Análise de dados (01/06)\n",
    "## Equipe:\n",
    "- Rafael Pascarelli Niccheri\n",
    "- Vinícius Matheus Morales\n",
    "___\n",
    "### Objetivo:\n",
    "Desenvolver uma análise completa dos dados da empresa e preparar um Dashboard em PowerBI para a visualização dos dados e dos resultados obtidos. Toda a etapa de Coleta, Tratamento, Análise e Visualização dos Dados devem estar claras. A entrega será feita via GitHub ou GoogleDrive, com a postagem do Dashboard pelo PowerBI\n",
    "___\n",
    "#### Obs.:\n",
    "- A estratégia pode mudar de um commit para outro, caso a equipe julgue necessário\n",
    "- A organização desse arquivo pode mudar de um commit para outro, caso a equipe julgue necessário\n",
    "- Metodologias ágeis de desenvolvimento estão sendo utilizadas para uma melhor eficiência\n",
    "___"
   ]
  },
  {
   "cell_type": "markdown",
   "metadata": {},
   "source": [
    "# Primeira parte\n",
    "### Importar as bibliotecas padrões e necessárias\n",
    "___"
   ]
  },
  {
   "cell_type": "code",
   "execution_count": null,
   "metadata": {},
   "outputs": [],
   "source": [
    "# Imports principais\n",
    "import pandas as pd\n",
    "import matplotlib.pyplot as plt\n",
    "import numpy as np\n",
    "import time, datetime, os, sys\n"
   ]
  },
  {
   "cell_type": "code",
   "execution_count": null,
   "metadata": {},
   "outputs": [],
   "source": [
    "print(f'Estamos trabalhando na pasta\\n{os.getcwd()}')\n"
   ]
  },
  {
   "cell_type": "markdown",
   "metadata": {},
   "source": [
    "# Segunda parte\n",
    "### Ler e armazenar cada db em uma variável\n",
    "___"
   ]
  },
  {
   "cell_type": "code",
   "execution_count": null,
   "metadata": {},
   "outputs": [],
   "source": [
    "# Lendo cada base de dados\n",
    "clientes_db = pd.read_excel('Base de Dados/clientes.xlsx')\n",
    "clientes_db\n"
   ]
  },
  {
   "cell_type": "code",
   "execution_count": null,
   "metadata": {},
   "outputs": [],
   "source": [
    "geoloc_db = pd.read_excel('Base de Dados/geolocalizacao.xlsx')\n",
    "geoloc_db\n"
   ]
  },
  {
   "cell_type": "code",
   "execution_count": null,
   "metadata": {},
   "outputs": [],
   "source": [
    "itens_db = pd.read_excel('Base de Dados/itens.xlsx')\n",
    "itens_db\n"
   ]
  },
  {
   "cell_type": "code",
   "execution_count": null,
   "metadata": {},
   "outputs": [],
   "source": [
    "pagamento_db = pd.read_excel('Base de Dados/pagamento.xlsx')\n",
    "pagamento_db\n"
   ]
  },
  {
   "cell_type": "code",
   "execution_count": null,
   "metadata": {},
   "outputs": [],
   "source": [
    "pedidos_db = pd.read_excel('Base de Dados/pedidos.xlsx')\n",
    "pedidos_db\n"
   ]
  },
  {
   "cell_type": "code",
   "execution_count": null,
   "metadata": {},
   "outputs": [],
   "source": [
    "produtos_db = pd.read_excel('Base de Dados/produtos.xlsx')\n",
    "produtos_db\n"
   ]
  },
  {
   "cell_type": "code",
   "execution_count": null,
   "metadata": {},
   "outputs": [],
   "source": [
    "reviews_db = pd.read_excel('Base de Dados/reviews.xlsx')\n",
    "reviews_db\n"
   ]
  },
  {
   "cell_type": "code",
   "execution_count": null,
   "metadata": {
    "scrolled": false
   },
   "outputs": [],
   "source": [
    "vendedores_db = pd.read_excel('Base de Dados/vendedores.xlsx')\n",
    "vendedores_db\n"
   ]
  },
  {
   "cell_type": "code",
   "execution_count": null,
   "metadata": {},
   "outputs": [],
   "source": [
    "# Removendo as linhas que não estão no padrão aceitável de reviews_db, como review_score do tipo datetime.datetime\n"
   ]
  },
  {
   "cell_type": "code",
   "execution_count": null,
   "metadata": {
    "scrolled": false
   },
   "outputs": [],
   "source": [
    "# De onde veio o produto?\n",
    "# def do_everything(produto_id:str=None, cliente_id:str=None, vendedor_id:str=None):\n",
    "# Encontrar o CEP do vendedor (De onde veio o produto?)\n",
    "# vendedor_id = input('Informe o id do vendedor: ')\n",
    "# cliente_id = input('Informe o id do cliente: ')\n",
    "# produto_id = input('Informe o id do produto: ')\n",
    "\n",
    "# cep_vendedor = vendedores_db.loc[vendedores_db['vendedor_id'] == vendedor_id, 'vendedor_CEP']\n",
    "# lati_vendedor = geoloc_db.loc[geoloc_db['geolocalizacao_CEP'] == cep_vendedor, 'geolocalizacao_latitude']\n",
    "# long_vendedor = geoloc_db.loc[geoloc_db['geolocalizacao_CEP'] == cep_vendedor, 'geolocalizacao_longitude']\n",
    "\n",
    "# # Encontrar o CEP do cliente (Para onde foi o produto?)\n",
    "# cep_cliente = clientes_db.loc[clientes_db['cliente_id'] == cliente_id, 'cliente_CEP']\n",
    "# lati_cliente = geoloc_db.loc[geoloc_db['geolocalizacao_CEP'] == cep_cliente, 'geolocalizacao_latitude']\n",
    "# long_cliente = geoloc_db.loc[geoloc_db['geolocalizacao_CEP'] == cep_cliente, 'geolocalizacao_longitude']\n",
    "\n",
    "# ----- Relacionar os dois com base no produto\n",
    "# Primeiro selecionar apenas as colunas vendedor_id e vendedor_CEP de vendedores_db\n",
    "df1 = vendedores_db[['vendedor_id', 'vendedor_CEP']].sort_values('vendedor_id')\n",
    "\n",
    "# Depois selecionar apenas as colunas pedido_id, numero_de_itens, produto_id, vendedor_id, preco e preco_frete de itens_db\n",
    "df2 = itens_db[['pedido_id', 'numero_de_itens', 'produto_id', 'vendedor_id', 'preco', 'preco_frete']].sort_values('vendedor_id')\n",
    "\n",
    "df3 = pd.concat([df1, df2], axis=1).sort_values('pedido_id')\n",
    "\n",
    "# Selecionar pedido_id, review_score, review_titulo e review_comentario de reviews_db\n",
    "# PRECISA REMOVER TODAS AS LINHAS COM DATETIME.DATETIME NO PEDIDO_ID\n",
    "print(isinstance(reviews_db['review_score'], int))\n",
    "df4 = reviews_db[['pedido_id', 'review_score', 'review_titulo', 'review_comentario']].sort_values('pedido_id')\n",
    "\n",
    "df5 = pd.concat([df3, df4], axis=1).sort_values('produto_id')\n",
    "\n",
    "# Selecionar apenas as colunas produto_id, produto_categoria, produto_comprimento_nome e produto_comprimento_descricao de produtos_db\n",
    "df6 = produtos_db[['produto_id', 'produto_categoria', 'produto_comprimento_nome', 'produto_comprimento_descricao']].sort_values('produto_id')\n",
    "\n",
    "# Selecionar todo o pagamentos_db\n",
    "df7 = pagamento_db.sort_values('produto_id')\n",
    "\n",
    "df8 = pd.concat([df5, df6, df7], axis=1).sort_values('pedido_id')\n",
    "\n",
    "# Selecionar pedido_id, cliente_id e pedido_status de pedidos_db\n",
    "df9 = pedidos_db[['pedido_id', 'cliente_id', 'pedido_status']].sort_values('pedido_id')\n",
    "\n",
    "df10 = pd.concat([df8, df9], axis=1).sort_values('cliente_id')\n",
    "\n",
    "# Selecionar cliente_id e cliente_CEP de clientes_db\n",
    "df11 = clientes_db[['cliente_id', 'cliente_CEP']].sort_values('cliente_id')\n",
    "\n",
    "df = pd.concat([df10, df11], axis=1)\n",
    "    \n",
    "df"
   ]
  },
  {
   "cell_type": "markdown",
   "metadata": {},
   "source": [
    "# Terceira parte\n",
    "### Fazer uma análise superficial dos dados (ordenações, filtros, etc)\n",
    "___"
   ]
  },
  {
   "cell_type": "code",
   "execution_count": null,
   "metadata": {},
   "outputs": [],
   "source": [
    "# Entendendo clientes_db\n",
    "\n",
    "# Verificando se algum CEP se repete (True: repete; False: não repete)\n",
    "print(len(clientes_db['cliente_CEP']) != len(set(clientes_db['cliente_CEP'])))\n",
    "print(f'Lista cliente_CEP: {len(clientes_db.cliente_CEP)}\\nSet cliente_CEP: {len(set(clientes_db.cliente_CEP))}')\n",
    "print(f'CEPs repetidos: {len(clientes_db.cliente_CEP) - len(set(clientes_db.cliente_CEP))}\\n')\n",
    "\n",
    "# Verificando se algum cliente_id se repete (True: repete; False: não repete)\n",
    "print(len(clientes_db['cliente_id']) != len(set(clientes_db['cliente_id'])))\n",
    "print(f'Lista cliente_id: {len(clientes_db.cliente_id)}\\nSet cliente_CEP: {len(set(clientes_db.cliente_id))}')\n",
    "print(f'IDs repetidos: {len(clientes_db.cliente_id) - len(set(clientes_db.cliente_id))}\\n')\n",
    "\n",
    "# Verificando se algum cliente_id_unico repete (True: repete; False: não repete)\n",
    "print(len(clientes_db['cliente_id_unico']) != len(set(clientes_db['cliente_id_unico'])))\n",
    "print(f'Lista cliente_id_unico: {len(clientes_db.cliente_id_unico)}\\nSet cliente_CEP: {len(set(clientes_db.cliente_id_unico))}')\n",
    "print(f'IDs únicos repetidos: {len(clientes_db.cliente_id_unico) - len(set(clientes_db.cliente_id_unico))}\\n')\n"
   ]
  },
  {
   "cell_type": "code",
   "execution_count": null,
   "metadata": {},
   "outputs": [],
   "source": [
    "# Definindo o tipo de cliente_estado como o tipo 'category'\n",
    "clientes_db['cliente_estado'] = clientes_db['cliente_estado'].astype('category')\n",
    "\n",
    "# Vendo todos os estados presentes no db\n",
    "print(clientes_db['cliente_estado'].cat.categories)\n",
    "\n",
    "# Vendo quantos estados estão presentes (se 27, então, todos + DF)\n",
    "print(len(clientes_db['cliente_estado'].cat.categories))\n"
   ]
  },
  {
   "cell_type": "code",
   "execution_count": null,
   "metadata": {},
   "outputs": [],
   "source": [
    "# Vendo quantos clientes tem em cada estado\n",
    "clientes_db['cliente_estado'].value_counts()\n"
   ]
  },
  {
   "cell_type": "code",
   "execution_count": null,
   "metadata": {},
   "outputs": [],
   "source": [
    "# Vendo as quantidades relativas de estados em x%\n",
    "clientes_db['cliente_estado'].value_counts(True).round(4)*100\n"
   ]
  },
  {
   "cell_type": "code",
   "execution_count": null,
   "metadata": {},
   "outputs": [],
   "source": [
    "clientes_db['cliente_estado'].value_counts().index.values\n"
   ]
  },
  {
   "cell_type": "code",
   "execution_count": null,
   "metadata": {},
   "outputs": [],
   "source": [
    "# Separando os dataframes por estado\n",
    "\n",
    "# São Paulo\n",
    "sp_mask = clientes_db['cliente_estado'] == 'SP'\n",
    "sp_data = clientes_db.loc[sp_mask, :]\n",
    "sp_data\n"
   ]
  },
  {
   "cell_type": "code",
   "execution_count": null,
   "metadata": {},
   "outputs": [],
   "source": [
    "# Rio de Janeiro\n",
    "rj_mask = clientes_db['cliente_estado'] == 'RJ'\n",
    "rj_data = clientes_db.loc[rj_mask, :]\n",
    "rj_data\n"
   ]
  },
  {
   "cell_type": "code",
   "execution_count": null,
   "metadata": {},
   "outputs": [],
   "source": [
    "# Minas Gerais\n",
    "mg_mask = clientes_db['cliente_estado'] == 'MG'\n",
    "mg_data = clientes_db.loc[mg_mask, :]\n",
    "mg_data\n"
   ]
  },
  {
   "cell_type": "code",
   "execution_count": null,
   "metadata": {},
   "outputs": [],
   "source": [
    "# Rio Grande do Sul\n",
    "rs_mask = clientes_db['cliente_estado'] == 'RS'\n",
    "rs_data = clientes_db.loc[rs_mask, :]\n",
    "rs_data\n"
   ]
  },
  {
   "cell_type": "code",
   "execution_count": null,
   "metadata": {},
   "outputs": [],
   "source": [
    "# Paraná\n",
    "pr_mask = clientes_db['cliente_estado'] == 'PR'\n",
    "pr_data = clientes_db.loc[pr_mask, :]\n",
    "pr_data\n"
   ]
  },
  {
   "cell_type": "code",
   "execution_count": null,
   "metadata": {},
   "outputs": [],
   "source": [
    "# Santa Catarina\n",
    "sc_mask = clientes_db['cliente_estado'] == 'SC'\n",
    "sc_data = clientes_db.loc[sc_mask, :]\n",
    "sc_data\n"
   ]
  },
  {
   "cell_type": "code",
   "execution_count": null,
   "metadata": {},
   "outputs": [],
   "source": [
    "# Bahia\n",
    "ba_mask = clientes_db['cliente_estado'] == 'BA'\n",
    "ba_data = clientes_db.loc[ba_mask, :]\n",
    "ba_data\n"
   ]
  },
  {
   "cell_type": "code",
   "execution_count": null,
   "metadata": {},
   "outputs": [],
   "source": [
    "# Distrito Federal\n",
    "df_mask = clientes_db['cliente_estado'] == 'DF'\n",
    "df_data = clientes_db.loc[df_mask, :]\n",
    "df_data\n"
   ]
  },
  {
   "cell_type": "code",
   "execution_count": null,
   "metadata": {},
   "outputs": [],
   "source": [
    "# Espírito Santo\n",
    "es_mask = clientes_db['cliente_estado'] == 'ES'\n",
    "es_data = clientes_db.loc[es_mask, :]\n",
    "es_data\n"
   ]
  },
  {
   "cell_type": "code",
   "execution_count": null,
   "metadata": {},
   "outputs": [],
   "source": [
    "# Goiás\n",
    "go_mask = clientes_db['cliente_estado'] == 'GO'\n",
    "go_data = clientes_db.loc[go_mask, :]\n",
    "go_data\n"
   ]
  },
  {
   "cell_type": "code",
   "execution_count": null,
   "metadata": {},
   "outputs": [],
   "source": [
    "# Pernambuco\n",
    "pe_mask = clientes_db['cliente_estado'] == 'PE'\n",
    "pe_data = clientes_db.loc[pe_mask, :]\n",
    "pe_data\n"
   ]
  },
  {
   "cell_type": "code",
   "execution_count": null,
   "metadata": {},
   "outputs": [],
   "source": [
    "# Ceará\n",
    "ce_mask = clientes_db['cliente_estado'] == 'CE'\n",
    "ce_data = clientes_db.loc[ce_mask, :]\n",
    "ce_data\n"
   ]
  },
  {
   "cell_type": "code",
   "execution_count": null,
   "metadata": {},
   "outputs": [],
   "source": [
    "# Pará\n",
    "pa_mask = clientes_db['cliente_estado'] == 'PA'\n",
    "pa_data = clientes_db.loc[pa_mask, :]\n",
    "pa_data\n"
   ]
  },
  {
   "cell_type": "code",
   "execution_count": null,
   "metadata": {},
   "outputs": [],
   "source": [
    "# Mato Grosso\n",
    "mt_mask = clientes_db['cliente_estado'] == 'MT'\n",
    "mt_data = clientes_db.loc[mt_mask, :]\n",
    "mt_data\n"
   ]
  },
  {
   "cell_type": "code",
   "execution_count": null,
   "metadata": {},
   "outputs": [],
   "source": [
    "# Maranhão\n",
    "ma_mask = clientes_db['cliente_estado'] == 'MA'\n",
    "ma_data = clientes_db.loc[ma_mask, :]\n",
    "ma_data\n"
   ]
  },
  {
   "cell_type": "code",
   "execution_count": null,
   "metadata": {},
   "outputs": [],
   "source": [
    "# Mato Grosso do Sul\n",
    "ms_mask = clientes_db['cliente_estado'] == 'MS'\n",
    "ms_data = clientes_db.loc[ms_mask, :]\n",
    "ms_data\n"
   ]
  },
  {
   "cell_type": "code",
   "execution_count": null,
   "metadata": {},
   "outputs": [],
   "source": [
    "# Paraíba\n",
    "pb_mask = clientes_db['cliente_estado'] == 'PB'\n",
    "pb_data = clientes_db.loc[pb_mask, :]\n",
    "pb_data\n"
   ]
  },
  {
   "cell_type": "code",
   "execution_count": null,
   "metadata": {},
   "outputs": [],
   "source": [
    "# Piauí\n",
    "pi_mask = clientes_db['cliente_estado'] == 'PI'\n",
    "pi_data = clientes_db.loc[pi_mask, :]\n",
    "pi_data\n"
   ]
  },
  {
   "cell_type": "code",
   "execution_count": null,
   "metadata": {},
   "outputs": [],
   "source": [
    "# Rio Grande do Norte\n",
    "rn_mask = clientes_db['cliente_estado'] == 'RN'\n",
    "rn_data = clientes_db.loc[rn_mask, :]\n",
    "rn_data\n"
   ]
  },
  {
   "cell_type": "code",
   "execution_count": null,
   "metadata": {},
   "outputs": [],
   "source": [
    "# Alagoas\n",
    "al_mask = clientes_db['cliente_estado'] == 'AL'\n",
    "al_data = clientes_db.loc[al_mask, :]\n",
    "al_data\n"
   ]
  },
  {
   "cell_type": "code",
   "execution_count": null,
   "metadata": {},
   "outputs": [],
   "source": [
    "# Sergipe\n",
    "se_mask = clientes_db['cliente_estado'] == 'SE'\n",
    "se_data = clientes_db.loc[se_mask, :]\n",
    "se_data\n"
   ]
  },
  {
   "cell_type": "code",
   "execution_count": null,
   "metadata": {},
   "outputs": [],
   "source": [
    "# Tocantins\n",
    "to_mask = clientes_db['cliente_estado'] == 'TO'\n",
    "to_data = clientes_db.loc[to_mask, :]\n",
    "to_data\n"
   ]
  },
  {
   "cell_type": "code",
   "execution_count": null,
   "metadata": {},
   "outputs": [],
   "source": [
    "# Rondônia\n",
    "ro_mask = clientes_db['cliente_estado'] == 'RO'\n",
    "ro_data = clientes_db.loc[ro_mask, :]\n",
    "ro_data\n"
   ]
  },
  {
   "cell_type": "code",
   "execution_count": null,
   "metadata": {},
   "outputs": [],
   "source": [
    "# Amazonas\n",
    "am_mask = clientes_db['cliente_estado'] == 'AM'\n",
    "am_data = clientes_db.loc[am_mask, :]\n",
    "am_data\n"
   ]
  },
  {
   "cell_type": "code",
   "execution_count": null,
   "metadata": {},
   "outputs": [],
   "source": [
    "# Acre\n",
    "ac_mask = clientes_db['cliente_estado'] == 'AC'\n",
    "ac_data = clientes_db.loc[ac_mask, :]\n",
    "ac_data\n"
   ]
  },
  {
   "cell_type": "code",
   "execution_count": null,
   "metadata": {},
   "outputs": [],
   "source": [
    "# Amapá\n",
    "ap_mask = clientes_db['cliente_estado'] == 'AP'\n",
    "ap_data = clientes_db.loc[ap_mask, :]\n",
    "ap_data\n"
   ]
  },
  {
   "cell_type": "code",
   "execution_count": null,
   "metadata": {
    "scrolled": true
   },
   "outputs": [],
   "source": [
    "# Roraima\n",
    "rr_mask = clientes_db['cliente_estado'] == 'RR'\n",
    "rr_data = clientes_db.loc[rr_mask, :]\n",
    "rr_data\n"
   ]
  },
  {
   "cell_type": "code",
   "execution_count": null,
   "metadata": {},
   "outputs": [],
   "source": []
  },
  {
   "cell_type": "code",
   "execution_count": null,
   "metadata": {},
   "outputs": [],
   "source": []
  },
  {
   "cell_type": "code",
   "execution_count": null,
   "metadata": {},
   "outputs": [],
   "source": []
  },
  {
   "cell_type": "code",
   "execution_count": null,
   "metadata": {},
   "outputs": [],
   "source": []
  },
  {
   "cell_type": "code",
   "execution_count": null,
   "metadata": {},
   "outputs": [],
   "source": []
  },
  {
   "cell_type": "code",
   "execution_count": null,
   "metadata": {},
   "outputs": [],
   "source": []
  },
  {
   "cell_type": "code",
   "execution_count": null,
   "metadata": {},
   "outputs": [],
   "source": []
  },
  {
   "cell_type": "code",
   "execution_count": null,
   "metadata": {},
   "outputs": [],
   "source": []
  },
  {
   "cell_type": "code",
   "execution_count": null,
   "metadata": {},
   "outputs": [],
   "source": []
  },
  {
   "cell_type": "markdown",
   "metadata": {},
   "source": [
    "# Quarta parte\n",
    "### Fazer o preprocessamento de dados\n",
    "___"
   ]
  },
  {
   "cell_type": "code",
   "execution_count": null,
   "metadata": {},
   "outputs": [],
   "source": []
  },
  {
   "cell_type": "code",
   "execution_count": null,
   "metadata": {},
   "outputs": [],
   "source": []
  },
  {
   "cell_type": "code",
   "execution_count": null,
   "metadata": {},
   "outputs": [],
   "source": []
  },
  {
   "cell_type": "markdown",
   "metadata": {},
   "source": [
    "# Quinta parte\n",
    "### Fazer análises estatísticas com auxílios gráficos\n",
    "___"
   ]
  },
  {
   "cell_type": "code",
   "execution_count": null,
   "metadata": {},
   "outputs": [],
   "source": []
  },
  {
   "cell_type": "code",
   "execution_count": null,
   "metadata": {},
   "outputs": [],
   "source": []
  },
  {
   "cell_type": "code",
   "execution_count": null,
   "metadata": {},
   "outputs": [],
   "source": []
  },
  {
   "cell_type": "markdown",
   "metadata": {},
   "source": [
    "# Sexta parte\n",
    "### Preparar o ambiente para o machine learning\n",
    "___"
   ]
  },
  {
   "cell_type": "code",
   "execution_count": null,
   "metadata": {},
   "outputs": [],
   "source": []
  },
  {
   "cell_type": "code",
   "execution_count": null,
   "metadata": {},
   "outputs": [],
   "source": []
  },
  {
   "cell_type": "code",
   "execution_count": null,
   "metadata": {},
   "outputs": [],
   "source": []
  },
  {
   "cell_type": "markdown",
   "metadata": {},
   "source": [
    "# Sétima parte\n",
    "### Testar o machine learning\n",
    "___"
   ]
  },
  {
   "cell_type": "code",
   "execution_count": null,
   "metadata": {},
   "outputs": [],
   "source": []
  },
  {
   "cell_type": "code",
   "execution_count": null,
   "metadata": {},
   "outputs": [],
   "source": []
  },
  {
   "cell_type": "code",
   "execution_count": null,
   "metadata": {},
   "outputs": [],
   "source": []
  },
  {
   "cell_type": "markdown",
   "metadata": {},
   "source": [
    "# Oitava parte\n",
    "### Fazer uma nova análise estatística com auxílios gráficos\n",
    "___"
   ]
  },
  {
   "cell_type": "code",
   "execution_count": null,
   "metadata": {},
   "outputs": [],
   "source": []
  },
  {
   "cell_type": "code",
   "execution_count": null,
   "metadata": {},
   "outputs": [],
   "source": []
  },
  {
   "cell_type": "code",
   "execution_count": null,
   "metadata": {},
   "outputs": [],
   "source": []
  },
  {
   "cell_type": "markdown",
   "metadata": {},
   "source": [
    "# Nona parte\n",
    "### Preparar o Dashboard em PowerBI\n",
    "___"
   ]
  },
  {
   "cell_type": "code",
   "execution_count": null,
   "metadata": {},
   "outputs": [],
   "source": []
  },
  {
   "cell_type": "code",
   "execution_count": null,
   "metadata": {},
   "outputs": [],
   "source": []
  },
  {
   "cell_type": "code",
   "execution_count": null,
   "metadata": {},
   "outputs": [],
   "source": []
  }
 ],
 "metadata": {
  "kernelspec": {
   "display_name": "Python 3",
   "language": "python",
   "name": "python3"
  },
  "language_info": {
   "codemirror_mode": {
    "name": "ipython",
    "version": 3
   },
   "file_extension": ".py",
   "mimetype": "text/x-python",
   "name": "python",
   "nbconvert_exporter": "python",
   "pygments_lexer": "ipython3",
   "version": "3.8.3"
  }
 },
 "nbformat": 4,
 "nbformat_minor": 4
}
